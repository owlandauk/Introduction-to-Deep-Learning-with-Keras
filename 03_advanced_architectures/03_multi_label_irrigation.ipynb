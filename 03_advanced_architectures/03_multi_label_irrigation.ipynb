{
 "cells": [
  {
   "cell_type": "markdown",
   "id": "4ad1f929",
   "metadata": {},
   "source": [
    "# Multi-Label Classification Example\n",
    "\n",
    "Predict which sensors trigger an irrigation system."
   ]
  },
  {
   "cell_type": "code",
   "execution_count": null,
   "id": "00b2a6f9",
   "metadata": {},
   "outputs": [],
   "source": [
    "import numpy as np\n",
    "from tensorflow.keras.models import Sequential\n",
    "from tensorflow.keras.layers import Dense\n",
    "\n",
    "# Dummy multi-label data: 1000 samples, 3 sensor outputs\n",
    "np.random.seed(2)\n",
    "X = np.random.rand(1000, 6)\n",
    "y = (X > 0.5).astype(int)  # 6 features, each >0.5 maps to 1 of 6 labels\n",
    "\n",
    "# Build model\n",
    "model = Sequential([\n",
    "    Dense(12, activation='relu', input_shape=(6,)),\n",
    "    Dense(6, activation='sigmoid')\n",
    "])\n",
    "model.compile(optimizer='adam', loss='binary_crossentropy', metrics=['accuracy'])\n",
    "\n",
    "# Train\n",
    "history = model.fit(X, y, epochs=20, validation_split=0.2)\n",
    "\n",
    "# Evaluate\n",
    "loss, acc = model.evaluate(X, y)\n",
    "print(f\"Multi-label accuracy: {acc:.3f}\")"
   ]
  }
 ],
 "metadata": {
  "language_info": {
   "name": "python"
  }
 },
 "nbformat": 4,
 "nbformat_minor": 5
}
