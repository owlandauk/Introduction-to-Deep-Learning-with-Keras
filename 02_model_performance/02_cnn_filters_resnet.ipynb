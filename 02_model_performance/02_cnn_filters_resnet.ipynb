{
 "cells": [
  {
   "cell_type": "markdown",
   "id": "7f7cfa90",
   "metadata": {},
   "source": [
    "# CNN Filters & ResNet50\n",
    "\n",
    "Explore a simple CNN and use a pretrained ResNet50 model."
   ]
  },
  {
   "cell_type": "code",
   "execution_count": null,
   "id": "36129fe0",
   "metadata": {},
   "outputs": [],
   "source": [
    "import numpy as np\n",
    "import matplotlib.pyplot as plt\n",
    "from tensorflow.keras.models import Sequential\n",
    "from tensorflow.keras.layers import Conv2D, MaxPooling2D, Flatten, Dense\n",
    "from tensorflow.keras.applications.resnet50 import ResNet50, preprocess_input, decode_predictions\n",
    "from tensorflow.keras.preprocessing import image\n",
    "\n",
    "# Simple CNN\n",
    "cnn = Sequential([\n",
    "    Conv2D(32, (3,3), activation='relu', input_shape=(28,28,1)),\n",
    "    MaxPooling2D((2,2)),\n",
    "    Flatten(),\n",
    "    Dense(10, activation='softmax')\n",
    "])\n",
    "cnn.compile(optimizer='adam', loss='sparse_categorical_crossentropy', metrics=['accuracy'])\n",
    "print(cnn.summary())\n",
    "\n",
    "# Pretrained ResNet50\n",
    "model = ResNet50(weights='imagenet')\n",
    "img_path = 'elephant.jpg'  # placeholder\n",
    "# Load and preprocess an example image (replace with real path)\n",
    "# img = image.load_img(img_path, target_size=(224,224))\n",
    "# x = image.img_to_array(img)\n",
    "# x = np.expand_dims(x, axis=0)\n",
    "# x = preprocess_input(x)\n",
    "# preds = model.predict(x)\n",
    "# print('Predicted:', decode_predictions(preds, top=1)[0])"
   ]
  }
 ],
 "metadata": {},
 "nbformat": 4,
 "nbformat_minor": 5
}
