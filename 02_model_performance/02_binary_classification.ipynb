{
 "cells": [
  {
   "cell_type": "markdown",
   "id": "c3714ea2",
   "metadata": {},
   "source": [
    "# Binary Classification Example\n",
    "\n",
    "Detect fake vs real dollar bills using a simple feedforward network."
   ]
  },
  {
   "cell_type": "code",
   "execution_count": null,
   "id": "1902a490",
   "metadata": {},
   "outputs": [],
   "source": [
    "import numpy as np\n",
    "from tensorflow.keras.models import Sequential\n",
    "from tensorflow.keras.layers import Dense\n",
    "\n",
    "# Dummy data\n",
    "np.random.seed(1)\n",
    "X = np.random.rand(1000, 5)\n",
    "y = (X.sum(axis=1) > 2.5).astype(int)\n",
    "\n",
    "# Build model\n",
    "model = Sequential([\n",
    "    Dense(8, activation='relu', input_shape=(5,)),\n",
    "    Dense(1, activation='sigmoid')\n",
    "])\n",
    "model.compile(optimizer='adam', loss='binary_crossentropy', metrics=['accuracy'])\n",
    "\n",
    "# Train\n",
    "history = model.fit(X, y, epochs=15, validation_split=0.2)\n",
    "\n",
    "# Evaluate\n",
    "loss, acc = model.evaluate(X, y)\n",
    "print(f\"Final accuracy: {acc:.3f}\")"
   ]
  }
 ],
 "metadata": {},
 "nbformat": 4,
 "nbformat_minor": 5
}
