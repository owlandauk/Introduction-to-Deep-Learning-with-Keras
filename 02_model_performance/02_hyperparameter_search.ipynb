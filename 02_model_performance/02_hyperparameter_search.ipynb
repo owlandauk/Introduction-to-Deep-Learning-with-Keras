{
 "cells": [
  {
   "cell_type": "markdown",
   "id": "d020eebd",
   "metadata": {},
   "source": [
    "# Hyperparameter Search\n",
    "\n",
    "Use GridSearchCV to tune a Keras model."
   ]
  },
  {
   "cell_type": "code",
   "execution_count": null,
   "id": "ca981c0b",
   "metadata": {},
   "outputs": [],
   "source": [
    "import numpy as np\n",
    "from tensorflow.keras.models import Sequential\n",
    "from tensorflow.keras.layers import Dense\n",
    "from tensorflow.keras.wrappers.scikit_learn import KerasRegressor\n",
    "from sklearn.model_selection import GridSearchCV\n",
    "\n",
    "# Generate dummy data\n",
    "np.random.seed(4)\n",
    "X, y = np.random.rand(500, 3), np.random.rand(500)\n",
    "\n",
    "def build_model(hidden_units=8, activation='relu'):\n",
    "    model = Sequential([\n",
    "        Dense(hidden_units, activation=activation, input_shape=(3,)),\n",
    "        Dense(1)\n",
    "    ])\n",
    "    model.compile(optimizer='adam', loss='mse')\n",
    "    return model\n",
    "\n",
    "keras_reg = KerasRegressor(build_fn=build_model, epochs=10, batch_size=16, verbose=0)\n",
    "param_grid = {\n",
    "    'hidden_units': [4, 8, 16],\n",
    "    'activation': ['relu', 'tanh'],\n",
    "    'batch_size': [8, 16]\n",
    "}\n",
    "\n",
    "grid = GridSearchCV(keras_reg, param_grid, cv=3)\n",
    "grid_result = grid.fit(X, y)\n",
    "\n",
    "print(f\"Best params: {grid_result.best_params_}\")"
   ]
  }
 ],
 "metadata": {},
 "nbformat": 4,
 "nbformat_minor": 5
}
