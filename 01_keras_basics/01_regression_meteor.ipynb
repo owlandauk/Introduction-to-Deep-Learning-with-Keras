{
 "cells": [
  {
   "cell_type": "markdown",
   "id": "4bbe37f4",
   "metadata": {},
   "source": [
    "# Meteor Regression Example\n",
    "\n",
    "This notebook demonstrates how to build a simple regression model in Keras."
   ]
  },
  {
   "cell_type": "code",
   "execution_count": null,
   "id": "53d9448d",
   "metadata": {},
   "outputs": [],
   "source": [
    "import numpy as np\n",
    "from tensorflow.keras.models import Sequential\n",
    "from tensorflow.keras.layers import Dense\n",
    "\n",
    "# Generate synthetic data for meteor trajectory (example)\n",
    "np.random.seed(0)\n",
    "X = np.random.rand(1000, 2)  # features: time, angle\n",
    "y = 3 * X[:,0] + 2 * X[:,1] + np.random.randn(1000) * 0.1  # linear relationship\n",
    "\n",
    "# Build model\n",
    "model = Sequential([\n",
    "    Dense(4, activation='relu', input_shape=(2,)),\n",
    "    Dense(1, activation='linear')\n",
    "])\n",
    "model.compile(optimizer='adam', loss='mse', metrics=['mae'])\n",
    "\n",
    "# Train\n",
    "history = model.fit(X, y, epochs=20, validation_split=0.2)\n",
    "\n",
    "# Evaluate\n",
    "loss, mae = model.evaluate(X, y)\n",
    "print(f\"Final MAE: {mae:.3f}\")"
   ]
  }
 ],
 "metadata": {},
 "nbformat": 4,
 "nbformat_minor": 5
}
